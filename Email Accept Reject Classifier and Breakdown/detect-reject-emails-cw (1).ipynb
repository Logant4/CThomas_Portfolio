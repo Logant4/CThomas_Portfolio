{
 "cells": [
  {
   "cell_type": "markdown",
   "metadata": {
    "jp-MarkdownHeadingCollapsed": true
   },
   "source": [
    "# Comp6481 / 8481 coursework 2024 \n",
    "\n",
    "We will be working with data from https://www.kaggle.com/datasets/sethpoly/application-rejection-emails \n",
    "\n",
    "*Detect Reject Emails* by SethPoly@kaggle\n"
   ]
  },
  {
   "cell_type": "markdown",
   "metadata": {
    "pycharm": {
     "name": "#%% md\n"
    }
   },
   "source": [
    "# Part A\n",
    "\n",
    "This notebook contains the questions for Part A of the practical coursework. \n",
    "\n",
    "Please ensure that this notebook is stored in a folder which also has the `Rejection Data - Sheet1.csv` data file\n",
    "\n",
    "When you answer these questions, include in your submission for Part A your answers and the code that you used. \n",
    "\n",
    "The most straightforward way to do this is to complete Part A within this Jupyter notebook. *Please add your answers and code per question in the indicated cells.*\n",
    "\n",
    "You can instead submit a separate python file for Part A if this is preferable for you, but remember to include:\n",
    "* your code \n",
    "* comments that: \n",
    " * clearly indicate which question each code snippet relates to, \n",
    " * contain the answer to that question.\n",
    "\n",
    "Part A is worth 20 marks in total. Each question is annotated with the number of marks that question is worth. In each question, half the marks are awarded for the code and half the marks are awarded for correct answers to the question.\n",
    "\n",
    "***Cells are provided for you to complete your answers in this notebook. Please do not edit any of the existing code and markdown already provided in this Jupyter notebook.***"
   ]
  },
  {
   "cell_type": "markdown",
   "metadata": {},
   "source": [
    "You are welcome to extend this notebook also for your Part B work, though you could also use a different notebook or python file. Please add any working for Part B at the end of this notebook if you wish to use this notebook for Part B work too.\n"
   ]
  },
  {
   "cell_type": "markdown",
   "metadata": {},
   "source": [
    "**************************************************************************************\n",
    "* Start of code adapted from https://www.kaggle.com/code/sethpoly/detect-reject-emails\n",
    "* The majority of code extracted from the original notebook is commented out below, but included for completeness\n",
    "**************************************************************************************"
   ]
  },
  {
   "cell_type": "markdown",
   "metadata": {},
   "source": [
    "# Detect Reject emails\n",
    "\n",
    "Author: Sethpoly@kaggle\n",
    "\n",
    "Link: https://www.kaggle.com/code/sethpoly/detect-reject-emails"
   ]
  },
  {
   "cell_type": "markdown",
   "metadata": {
    "papermill": {
     "duration": 0.007364,
     "end_time": "2021-02-27T19:54:38.849830",
     "exception": false,
     "start_time": "2021-02-27T19:54:38.842466",
     "status": "completed"
    },
    "tags": []
   },
   "source": [
    "## Used to detect the rejection emails from jobs applied to.\n"
   ]
  },
  {
   "cell_type": "code",
   "execution_count": 1,
   "metadata": {
    "_cell_guid": "b1076dfc-b9ad-4769-8c92-a6c4dae69d19",
    "_uuid": "8f2839f25d086af736a60e9eeb907d3b93b6e0e5",
    "papermill": {
     "duration": 0.06059,
     "end_time": "2021-02-27T19:54:38.917135",
     "exception": false,
     "start_time": "2021-02-27T19:54:38.856545",
     "status": "completed"
    },
    "tags": []
   },
   "outputs": [
    {
     "data": {
      "text/html": [
       "<div>\n",
       "<style scoped>\n",
       "    .dataframe tbody tr th:only-of-type {\n",
       "        vertical-align: middle;\n",
       "    }\n",
       "\n",
       "    .dataframe tbody tr th {\n",
       "        vertical-align: top;\n",
       "    }\n",
       "\n",
       "    .dataframe thead th {\n",
       "        text-align: right;\n",
       "    }\n",
       "</style>\n",
       "<table border=\"1\" class=\"dataframe\">\n",
       "  <thead>\n",
       "    <tr style=\"text-align: right;\">\n",
       "      <th></th>\n",
       "      <th>Email</th>\n",
       "      <th>Status</th>\n",
       "    </tr>\n",
       "  </thead>\n",
       "  <tbody>\n",
       "    <tr>\n",
       "      <th>124</th>\n",
       "      <td>Starting March 17, 2021, eBay will no longer ...</td>\n",
       "      <td>not_reject</td>\n",
       "    </tr>\n",
       "    <tr>\n",
       "      <th>125</th>\n",
       "      <td>Hi Seth,\\n\\nI want to make finding a great rem...</td>\n",
       "      <td>not_reject</td>\n",
       "    </tr>\n",
       "    <tr>\n",
       "      <th>126</th>\n",
       "      <td>Hello Seth,\\n\\nI just wanted to take a second ...</td>\n",
       "      <td>not_reject</td>\n",
       "    </tr>\n",
       "    <tr>\n",
       "      <th>127</th>\n",
       "      <td>Your free YouMail plan includes 20 in-app tran...</td>\n",
       "      <td>not_reject</td>\n",
       "    </tr>\n",
       "    <tr>\n",
       "      <th>128</th>\n",
       "      <td>\\nSupport resources for developers at all leve...</td>\n",
       "      <td>not_reject</td>\n",
       "    </tr>\n",
       "  </tbody>\n",
       "</table>\n",
       "</div>"
      ],
      "text/plain": [
       "                                                 Email      Status\n",
       "124   Starting March 17, 2021, eBay will no longer ...  not_reject\n",
       "125  Hi Seth,\\n\\nI want to make finding a great rem...  not_reject\n",
       "126  Hello Seth,\\n\\nI just wanted to take a second ...  not_reject\n",
       "127  Your free YouMail plan includes 20 in-app tran...  not_reject\n",
       "128  \\nSupport resources for developers at all leve...  not_reject"
      ]
     },
     "execution_count": 1,
     "metadata": {},
     "output_type": "execute_result"
    }
   ],
   "source": [
    "import numpy as np # linear algebra\n",
    "import pandas as pd # data processing, CSV file I/O (e.g. pd.read_csv).\n",
    "from gensim.models import Word2Vec\n",
    "import nltk\n",
    "\n",
    "df = pd.read_csv('Rejection Data - Sheet1.csv')\n",
    "df.tail()"
   ]
  },
  {
   "cell_type": "code",
   "execution_count": 2,
   "metadata": {
    "papermill": {
     "duration": 0.19294,
     "end_time": "2021-02-27T19:54:39.117736",
     "exception": false,
     "start_time": "2021-02-27T19:54:38.924796",
     "status": "completed"
    },
    "tags": []
   },
   "outputs": [
    {
     "data": {
      "text/html": [
       "<div>\n",
       "<style scoped>\n",
       "    .dataframe tbody tr th:only-of-type {\n",
       "        vertical-align: middle;\n",
       "    }\n",
       "\n",
       "    .dataframe tbody tr th {\n",
       "        vertical-align: top;\n",
       "    }\n",
       "\n",
       "    .dataframe thead th {\n",
       "        text-align: right;\n",
       "    }\n",
       "</style>\n",
       "<table border=\"1\" class=\"dataframe\">\n",
       "  <thead>\n",
       "    <tr style=\"text-align: right;\">\n",
       "      <th></th>\n",
       "      <th>Email</th>\n",
       "      <th>Status</th>\n",
       "    </tr>\n",
       "  </thead>\n",
       "  <tbody>\n",
       "    <tr>\n",
       "      <th>124</th>\n",
       "      <td>Starting March 17, 2021, eBay will no longer ...</td>\n",
       "      <td>not_reject</td>\n",
       "    </tr>\n",
       "    <tr>\n",
       "      <th>125</th>\n",
       "      <td>Hi Seth,  I want to make finding a great remot...</td>\n",
       "      <td>not_reject</td>\n",
       "    </tr>\n",
       "    <tr>\n",
       "      <th>126</th>\n",
       "      <td>Hello Seth,  I just wanted to take a second to...</td>\n",
       "      <td>not_reject</td>\n",
       "    </tr>\n",
       "    <tr>\n",
       "      <th>127</th>\n",
       "      <td>Your free YouMail plan includes 20 in-app tran...</td>\n",
       "      <td>not_reject</td>\n",
       "    </tr>\n",
       "    <tr>\n",
       "      <th>128</th>\n",
       "      <td>Support resources for developers at all level...</td>\n",
       "      <td>not_reject</td>\n",
       "    </tr>\n",
       "  </tbody>\n",
       "</table>\n",
       "</div>"
      ],
      "text/plain": [
       "                                                 Email      Status\n",
       "124   Starting March 17, 2021, eBay will no longer ...  not_reject\n",
       "125  Hi Seth,  I want to make finding a great remot...  not_reject\n",
       "126  Hello Seth,  I just wanted to take a second to...  not_reject\n",
       "127  Your free YouMail plan includes 20 in-app tran...  not_reject\n",
       "128   Support resources for developers at all level...  not_reject"
      ]
     },
     "execution_count": 2,
     "metadata": {},
     "output_type": "execute_result"
    }
   ],
   "source": [
    "import string\n",
    "import matplotlib.pyplot as plt\n",
    "import nltk\n",
    "\n",
    "\n",
    "# For the purposes of this assessment, all text processing actions in this cell have been removed except the replacement of newline characters by space characters\n",
    "\n",
    "# convert email text to lowercase\n",
    "#df.Email = df.Email.apply(lambda x: x.lower())\n",
    "# remove punctuation\n",
    "#df.Email = df.Email.apply(lambda x: x.translate(str.maketrans('','', string.punctuation)))\n",
    "# remove numbers\n",
    "#df.Email = df.Email.apply(lambda x: x.translate(str.maketrans('','','1234567890')))\n",
    "# remove newline tags\n",
    "df.Email = df.Email.apply(lambda x: x.translate(str.maketrans('\\n',' ')))\n",
    "df.tail()\n",
    "\n"
   ]
  },
  {
   "cell_type": "code",
   "execution_count": 3,
   "metadata": {},
   "outputs": [
    {
     "data": {
      "image/png": "[encoded data removed]",
      "text/plain": [
       "<Figure size 640x480 with 1 Axes>"
      ]
     },
     "metadata": {},
     "output_type": "display_data"
    }
   ],
   "source": [
    "df.Status.value_counts().plot(kind='bar')\n",
    "plt.show()"
   ]
  },
  {
   "cell_type": "code",
   "execution_count": 4,
   "metadata": {},
   "outputs": [
    {
     "name": "stdout",
     "output_type": "stream",
     "text": [
      "['Thank', 'you', 'for', 'applying', 'to', 'the', 'Junior', 'Software', 'Developer', 'position', 'at', 'MSC', 'Technology', '.', 'Unfortunately', ',', 'MSC', 'Technology', 'has', 'moved', 'to', 'the', 'next', 'step', 'in', 'their', 'hiring', 'process', ',', 'and', 'your', 'application', 'was', 'not', 'selected', 'at', 'this', 'time', '.']\n"
     ]
    }
   ],
   "source": [
    "# Add a column 'Tokens' to df, to hold the email contents as a list of tokens\n",
    "df['Tokens'] = [nltk.word_tokenize(e) for e in df.Email]\n",
    "\n",
    "print(df.Tokens[0])"
   ]
  },
  {
   "cell_type": "code",
   "execution_count": 5,
   "metadata": {
    "papermill": {
     "duration": 1.177122,
     "end_time": "2021-02-27T19:54:40.303234",
     "exception": false,
     "start_time": "2021-02-27T19:54:39.126112",
     "status": "completed"
    },
    "tags": []
   },
   "outputs": [
    {
     "name": "stdout",
     "output_type": "stream",
     "text": [
      "(103, 1804)\n",
      "(103,)\n",
      "(26, 1804)\n",
      "(26,)\n"
     ]
    }
   ],
   "source": [
    "from sklearn.feature_extraction.text import CountVectorizer\n",
    "from sklearn.feature_extraction.text import TfidfVectorizer, TfidfTransformer\n",
    "from sklearn.preprocessing import LabelEncoder\n",
    "from sklearn.naive_bayes import MultinomialNB\n",
    "from sklearn.model_selection import train_test_split\n",
    "from sklearn.metrics import confusion_matrix\n",
    "from sklearn.model_selection import cross_val_score\n",
    "from sklearn.metrics import classification_report\n",
    "\n",
    "#pull data into vectors to create collection of text/tokens\n",
    "vectorizer = CountVectorizer()\n",
    "x = vectorizer.fit_transform(df.Email)\n",
    "\n",
    "encoder = LabelEncoder()\n",
    "y = encoder.fit_transform(df.Status)\n",
    "\n",
    "#split into train and test sets\n",
    "x_train, x_test, y_train, y_test = train_test_split(x, y, test_size=0.2)\n",
    "\n",
    "#Shape of sets\n",
    "print(x_train.shape)\n",
    "print(y_train.shape)\n",
    "print(x_test.shape)\n",
    "print(y_test.shape)"
   ]
  },
  {
   "cell_type": "code",
   "execution_count": 6,
   "metadata": {
    "papermill": {
     "duration": 0.026863,
     "end_time": "2021-02-27T19:54:40.338645",
     "exception": false,
     "start_time": "2021-02-27T19:54:40.311782",
     "status": "completed"
    },
    "tags": []
   },
   "outputs": [
    {
     "name": "stdout",
     "output_type": "stream",
     "text": [
      "CPU times: total: 0 ns\n",
      "Wall time: 1.57 ms\n"
     ]
    },
    {
     "data": {
      "text/html": [
       "<style>#sk-container-id-1 {color: black;}#sk-container-id-1 pre{padding: 0;}#sk-container-id-1 div.sk-toggleable {background-color: white;}#sk-container-id-1 label.sk-toggleable__label {cursor: pointer;display: block;width: 100%;margin-bottom: 0;padding: 0.3em;box-sizing: border-box;text-align: center;}#sk-container-id-1 label.sk-toggleable__label-arrow:before {content: \"▸\";float: left;margin-right: 0.25em;color: #696969;}#sk-container-id-1 label.sk-toggleable__label-arrow:hover:before {color: black;}#sk-container-id-1 div.sk-estimator:hover label.sk-toggleable__label-arrow:before {color: black;}#sk-container-id-1 div.sk-toggleable__content {max-height: 0;max-width: 0;overflow: hidden;text-align: left;background-color: #f0f8ff;}#sk-container-id-1 div.sk-toggleable__content pre {margin: 0.2em;color: black;border-radius: 0.25em;background-color: #f0f8ff;}#sk-container-id-1 input.sk-toggleable__control:checked~div.sk-toggleable__content {max-height: 200px;max-width: 100%;overflow: auto;}#sk-container-id-1 input.sk-toggleable__control:checked~label.sk-toggleable__label-arrow:before {content: \"▾\";}#sk-container-id-1 div.sk-estimator input.sk-toggleable__control:checked~label.sk-toggleable__label {background-color: #d4ebff;}#sk-container-id-1 div.sk-label input.sk-toggleable__control:checked~label.sk-toggleable__label {background-color: #d4ebff;}#sk-container-id-1 input.sk-hidden--visually {border: 0;clip: rect(1px 1px 1px 1px);clip: rect(1px, 1px, 1px, 1px);height: 1px;margin: -1px;overflow: hidden;padding: 0;position: absolute;width: 1px;}#sk-container-id-1 div.sk-estimator {font-family: monospace;background-color: #f0f8ff;border: 1px dotted black;border-radius: 0.25em;box-sizing: border-box;margin-bottom: 0.5em;}#sk-container-id-1 div.sk-estimator:hover {background-color: #d4ebff;}#sk-container-id-1 div.sk-parallel-item::after {content: \"\";width: 100%;border-bottom: 1px solid gray;flex-grow: 1;}#sk-container-id-1 div.sk-label:hover label.sk-toggleable__label {background-color: #d4ebff;}#sk-container-id-1 div.sk-serial::before {content: \"\";position: absolute;border-left: 1px solid gray;box-sizing: border-box;top: 0;bottom: 0;left: 50%;z-index: 0;}#sk-container-id-1 div.sk-serial {display: flex;flex-direction: column;align-items: center;background-color: white;padding-right: 0.2em;padding-left: 0.2em;position: relative;}#sk-container-id-1 div.sk-item {position: relative;z-index: 1;}#sk-container-id-1 div.sk-parallel {display: flex;align-items: stretch;justify-content: center;background-color: white;position: relative;}#sk-container-id-1 div.sk-item::before, #sk-container-id-1 div.sk-parallel-item::before {content: \"\";position: absolute;border-left: 1px solid gray;box-sizing: border-box;top: 0;bottom: 0;left: 50%;z-index: -1;}#sk-container-id-1 div.sk-parallel-item {display: flex;flex-direction: column;z-index: 1;position: relative;background-color: white;}#sk-container-id-1 div.sk-parallel-item:first-child::after {align-self: flex-end;width: 50%;}#sk-container-id-1 div.sk-parallel-item:last-child::after {align-self: flex-start;width: 50%;}#sk-container-id-1 div.sk-parallel-item:only-child::after {width: 0;}#sk-container-id-1 div.sk-dashed-wrapped {border: 1px dashed gray;margin: 0 0.4em 0.5em 0.4em;box-sizing: border-box;padding-bottom: 0.4em;background-color: white;}#sk-container-id-1 div.sk-label label {font-family: monospace;font-weight: bold;display: inline-block;line-height: 1.2em;}#sk-container-id-1 div.sk-label-container {text-align: center;}#sk-container-id-1 div.sk-container {/* jupyter's `normalize.less` sets `[hidden] { display: none; }` but bootstrap.min.css set `[hidden] { display: none !important; }` so we also need the `!important` here to be able to override the default hidden behavior on the sphinx rendered scikit-learn.org. See: https://github.com/scikit-learn/scikit-learn/issues/21755 */display: inline-block !important;position: relative;}#sk-container-id-1 div.sk-text-repr-fallback {display: none;}</style><div id=\"sk-container-id-1\" class=\"sk-top-container\"><div class=\"sk-text-repr-fallback\"><pre>MultinomialNB()</pre><b>In a Jupyter environment, please rerun this cell to show the HTML representation or trust the notebook. <br />On GitHub, the HTML representation is unable to render, please try loading this page with nbviewer.org.</b></div><div class=\"sk-container\" hidden><div class=\"sk-item\"><div class=\"sk-estimator sk-toggleable\"><input class=\"sk-toggleable__control sk-hidden--visually\" id=\"sk-estimator-id-1\" type=\"checkbox\" checked><label for=\"sk-estimator-id-1\" class=\"sk-toggleable__label sk-toggleable__label-arrow\">MultinomialNB</label><div class=\"sk-toggleable__content\"><pre>MultinomialNB()</pre></div></div></div></div></div>"
      ],
      "text/plain": [
       "MultinomialNB()"
      ]
     },
     "execution_count": 6,
     "metadata": {},
     "output_type": "execute_result"
    }
   ],
   "source": [
    "%%time\n",
    "nb = MultinomialNB()\n",
    "nb.fit(x_train, y_train)"
   ]
  },
  {
   "cell_type": "code",
   "execution_count": 7,
   "metadata": {
    "papermill": {
     "duration": 0.022428,
     "end_time": "2021-02-27T19:54:40.370422",
     "exception": false,
     "start_time": "2021-02-27T19:54:40.347994",
     "status": "completed"
    },
    "tags": []
   },
   "outputs": [
    {
     "name": "stdout",
     "output_type": "stream",
     "text": [
      "reject\n",
      "not-reject\n",
      "reject\n",
      "reject\n"
     ]
    }
   ],
   "source": [
    "def predict_reject(email):\n",
    "   category_names = {'reject':'reject','not_reject':'not-reject'}\n",
    "   cod = nb.predict(vectorizer.transform([email]))\n",
    "   return category_names[encoder.inverse_transform(cod)[0]]\n",
    "\n",
    "print(predict_reject('Unfortunately we will not be moving forward'))\n",
    "print(predict_reject('I found some job listings you may be interested in'))\n",
    "print(predict_reject('We were very fortunate to have a strong group of applicants to consider for this role and have recently filled this position. Unfortunately, because this role is no longer available, we will not be moving forward with your application.'))\n",
    "print(predict_reject(''))\n"
   ]
  },
  {
   "cell_type": "code",
   "execution_count": 8,
   "metadata": {
    "papermill": {
     "duration": 0.170594,
     "end_time": "2021-02-27T19:54:40.550675",
     "exception": false,
     "start_time": "2021-02-27T19:54:40.380081",
     "status": "completed"
    },
    "tags": []
   },
   "outputs": [
    {
     "name": "stdout",
     "output_type": "stream",
     "text": [
      "Accuracy: 0.8076923076923077\n"
     ]
    }
   ],
   "source": [
    "from sklearn.linear_model import LogisticRegression\n",
    "from sklearn.multiclass import OneVsRestClassifier\n",
    "\n",
    "#Init the classfifier\n",
    "clf = OneVsRestClassifier(LogisticRegression())\n",
    "\n",
    "#Fit classifier to training data\n",
    "clf.fit(x_train, y_train)\n",
    "\n",
    "#Print accuracy\n",
    "print(f'Accuracy: {clf.score(x_test, y_test)}')"
   ]
  },
  {
   "cell_type": "code",
   "execution_count": 9,
   "metadata": {
    "papermill": {
     "duration": 0.027733,
     "end_time": "2021-02-27T19:54:40.591067",
     "exception": false,
     "start_time": "2021-02-27T19:54:40.563334",
     "status": "completed"
    },
    "tags": []
   },
   "outputs": [
    {
     "name": "stdout",
     "output_type": "stream",
     "text": [
      "              precision    recall  f1-score   support\n",
      "\n",
      "  not_reject       1.00      0.69      0.81        16\n",
      "      reject       0.67      1.00      0.80        10\n",
      "\n",
      "    accuracy                           0.81        26\n",
      "   macro avg       0.83      0.84      0.81        26\n",
      "weighted avg       0.87      0.81      0.81        26\n",
      "\n"
     ]
    }
   ],
   "source": [
    "x_test_clv_pred = clf.predict(x_test)\n",
    "confusion_matrix(y_test, x_test_clv_pred)\n",
    "print(classification_report(y_test, x_test_clv_pred, target_names=encoder.classes_))"
   ]
  },
  {
   "cell_type": "markdown",
   "metadata": {
    "papermill": {
     "duration": 0.010251,
     "end_time": "2021-02-27T19:54:40.612159",
     "exception": false,
     "start_time": "2021-02-27T19:54:40.601908",
     "status": "completed"
    },
    "tags": []
   },
   "source": [
    " - Inspiration and code samples from https://towardsdatascience.com/i-built-a-reject-not-reject-email-classifier-for-my-job-applications-844a3b6cd67e"
   ]
  },
  {
   "cell_type": "markdown",
   "metadata": {},
   "source": [
    "**************************************************************************************\n",
    "* End of code adapted from https://www.kaggle.com/code/sethpoly/detect-reject-emails\n",
    "**************************************************************************************"
   ]
  },
  {
   "cell_type": "markdown",
   "metadata": {},
   "source": [
    "# Coursework questions for Part A:\n",
    "\n",
    "For each question, please add your code to the empty code cell below the question, and please add any written answers/comments to the empty markdown cell below the question, as indicated. \n",
    "\n",
    "***You are allowed to add additional code markdown cells as needed below this point. Please do not edit any of the existing code and markdown already provided in this Jupyter notebook.***\n"
   ]
  },
  {
   "cell_type": "markdown",
   "metadata": {},
   "source": [
    "## Q1 [2 marks]\n",
    "\n",
    "Add a column to the `df` data frame named `Length`, which holds the number of tokens in the tokenised list representing that email (i.e. the number of items in the list in `df.Tokens` for each row)"
   ]
  },
  {
   "cell_type": "code",
   "execution_count": 10,
   "metadata": {},
   "outputs": [],
   "source": [
    "# Answer to Q1\n",
    "df['Length'] = df['Tokens'].apply(len)"
   ]
  },
  {
   "cell_type": "code",
   "execution_count": 11,
   "metadata": {},
   "outputs": [
    {
     "name": "stdout",
     "output_type": "stream",
     "text": [
      "0       39\n",
      "1       47\n",
      "2      139\n",
      "3       49\n",
      "4       81\n",
      "      ... \n",
      "124    133\n",
      "125     87\n",
      "126     58\n",
      "127     34\n",
      "128    146\n",
      "Name: Length, Length: 129, dtype: int64\n"
     ]
    }
   ],
   "source": [
    "#Do not edit this cell, except that you can uncomment the line below for testing your answer to this question\n",
    "print(df['Length'])"
   ]
  },
  {
   "cell_type": "markdown",
   "metadata": {},
   "source": [
    "## Q2. \n",
    "\n",
    "### Q2a [2 marks] \n",
    "\n",
    "Choose an appropriate visualisation to create a visualisation of the Length and Status data in `df`, after you have completed Q1.\n",
    "\n",
    "You can consult the lectures on visualisation and also use the following docs to help guide you and give you inspiration:\n",
    "\n",
    "https://matplotlib.org/stable/plot_types/basic/index.html\n",
    "https://realpython.com/pandas-plot-python/\n",
    "https://pandas.pydata.org/docs/reference/api/pandas.DataFrame.plot.html\n",
    "https://www.w3schools.com/python/matplotlib_intro.asp\n",
    "\n",
    "### Q2b [2 marks] \n",
    "\n",
    "Give a brief comment in the markdown box below about why you have chosen the visualisation you did, with reference to the type of data you are visualising.\n",
    "\n",
    "Add a comment answering the question: \"Do you see any patterns in your visualisation of the data frame data on email Length and email Status?\""
   ]
  },
  {
   "cell_type": "code",
   "execution_count": 12,
   "metadata": {},
   "outputs": [
    {
     "data": {
      "image/png": "[encoded data removed]",
      "text/plain": [
       "<Figure size 1000x600 with 1 Axes>"
      ]
     },
     "metadata": {},
     "output_type": "display_data"
    }
   ],
   "source": [
    "avg_lengths = df.groupby('Status')['Length'].mean()\n",
    "data_to_plot = [df[df['Status']=='reject']['Length'], df[df['Status']=='not_reject']['Length']]\n",
    "plt.style.use('dark_background')\n",
    "plt.figure(figsize=(10, 6))\n",
    "plt.boxplot(data_to_plot, labels=['Rejection Emails', 'Non-Rejection Emails'])\n",
    "plt.title('Distribution of Word Counts in Rejection vs. Non-Rejection Emails')\n",
    "plt.ylabel('Word Count')\n",
    "plt.show()\n"
   ]
  },
  {
   "cell_type": "markdown",
   "metadata": {},
   "source": [
    "Write your answer to Q2b here:\n",
    "\n",
    "I chose to use a box plot because it is a simple but effective way to see not just the average range but also the total range between the lengths of emails within each caterogry and also compare them.\n",
    "There is a clear pattern in the sence that both emails have a similar avereage around 100 however the non rejection emails have a signfinicaly higher upper word count than the rejection and a higher average overall\n"
   ]
  },
  {
   "cell_type": "markdown",
   "metadata": {},
   "source": [
    "## Q3. [4 marks] \n",
    "\n",
    "We have defined a measure of `lexical richness` as: the number of unique tokens in a text, divided by the total number of tokens in that text. \n",
    "\n",
    "[We have also defined a second measure: how many times, on average, is each token used in the text? We will *not* use that measure here.]\n",
    "\n",
    "Add a column to the data frame `df` named `LexRich`, which calculates the lexical richness for each email in the dataset.\n",
    "\n"
   ]
  },
  {
   "cell_type": "code",
   "execution_count": 13,
   "metadata": {},
   "outputs": [],
   "source": [
    "# Answer for Q3\n",
    "def lexical_richness(tokens):\n",
    "    if len(tokens) > 0:\n",
    "        return len(set(tokens)) / len(tokens)\n",
    "    else:\n",
    "        return 0\n",
    "\n",
    "df['LexRich'] = df['Tokens'].apply(lexical_richness)"
   ]
  },
  {
   "cell_type": "code",
   "execution_count": 14,
   "metadata": {},
   "outputs": [
    {
     "name": "stdout",
     "output_type": "stream",
     "text": [
      "0      0.820513\n",
      "1      0.765957\n",
      "2      0.669065\n",
      "3      0.673469\n",
      "4      0.703704\n",
      "         ...   \n",
      "124    0.556391\n",
      "125    0.735632\n",
      "126    0.793103\n",
      "127    0.794118\n",
      "128    0.719178\n",
      "Name: LexRich, Length: 129, dtype: float64\n"
     ]
    }
   ],
   "source": [
    "#Do not edit this cell, except that you can uncomment the line below for testing your answer to this question\n",
    "print(df['LexRich'])"
   ]
  },
  {
   "cell_type": "markdown",
   "metadata": {},
   "source": [
    "## Q4. \n",
    "\n",
    "For Q4a and Q4b, note that we can access all the data in df with the Status = 'reject', using this code:\n",
    "\n",
    "print(df[df.Status=='reject'])\n",
    "\n",
    "###  Q4a: [4 marks] \n",
    "\n",
    "Calculate two variables, `lex_reject` and `lex_not_reject`\n",
    "* `lex_reject' = the mean lexical richness for the `reject' emails\n",
    "* `lex_not_reject' = the mean lexical richness for the `not_reject' emails\n",
    "\n",
    "###  Q4b: [2 marks] \n",
    "Comment briefly on the difference: what does this tell us about how the variety of vocabulary use differs between reject emails and not_reject emails? [approx 2-4 sentences]"
   ]
  },
  {
   "cell_type": "code",
   "execution_count": 15,
   "metadata": {},
   "outputs": [],
   "source": [
    "# We can access all the data in df with the Status = 'reject', using this code:\n",
    "# print(df[df.Status=='reject'])"
   ]
  },
  {
   "cell_type": "code",
   "execution_count": 16,
   "metadata": {},
   "outputs": [],
   "source": [
    "# Answer for Q4a\n",
    "lex_reject = df[df.Status=='reject']['LexRich'].mean()\n",
    "lex_not_reject = df[df.Status!='reject']['LexRich'].mean()"
   ]
  },
  {
   "cell_type": "code",
   "execution_count": 17,
   "metadata": {},
   "outputs": [
    {
     "name": "stdout",
     "output_type": "stream",
     "text": [
      "0.7224843001105477\n",
      "0.7282174937343919\n"
     ]
    }
   ],
   "source": [
    "#Do not edit this cell, except that you can uncomment the line below for testing your answer to this question\n",
    "print(lex_reject)\n",
    "print(lex_not_reject)"
   ]
  },
  {
   "cell_type": "markdown",
   "metadata": {},
   "source": [
    "Write your answer for Q4b here:\n",
    "\n",
    "The lexical richness scores suggest that the range of vocabulary used within the eamils were very similar. However, not reject has a slightly higher richness of .728 vs rejects .722 suggesting that \"not reject\" tend to use a slightly wider range of vocabulary compared to that of \"reject\". "
   ]
  },
  {
   "cell_type": "markdown",
   "metadata": {},
   "source": [
    "## Q5. [4 marks]\n",
    "\n",
    "Train a Word2Vec model called `model` using the following input parameters:\n",
    "* `sentences` as the data in `df.Tokens`\n",
    "* a `vector_size` of 100\n",
    "* a `window` of 5\n",
    "* a `min_count` of 1\n",
    "* a `workers` of 4\n",
    "\n",
    "Using your Word2Vec `model`, list the top 20 most similar tokens to the token `developer`."
   ]
  },
  {
   "cell_type": "code",
   "execution_count": 18,
   "metadata": {},
   "outputs": [],
   "source": [
    "# Answer to Q5 \n",
    "model = Word2Vec(sentences=df['Tokens'], vector_size=100, window=5, min_count=1, workers=4)\n"
   ]
  },
  {
   "cell_type": "code",
   "execution_count": 19,
   "metadata": {},
   "outputs": [
    {
     "name": "stdout",
     "output_type": "stream",
     "text": [
      "1: 0.9170181751251221\n",
      "want: 0.9139006733894348\n",
      "move: 0.912597119808197\n",
      "visit: 0.9116929173469543\n",
      "reviewed: 0.9114440679550171\n",
      "any: 0.9112985730171204\n",
      "ago: 0.9110081791877747\n",
      "been: 0.9110031723976135\n",
      "but: 0.9107151031494141\n",
      "clients: 0.9106860160827637\n",
      "what: 0.9105873107910156\n",
      "consider: 0.9104276895523071\n",
      "experience: 0.9102237224578857\n",
      "also: 0.9100909233093262\n",
      "one: 0.9100781679153442\n",
      "position: 0.9100679755210876\n",
      "success: 0.9099695682525635\n",
      "how: 0.9099376797676086\n",
      "fit: 0.9099097847938538\n",
      "interest: 0.9098953008651733\n"
     ]
    }
   ],
   "source": [
    "similar_tokens = model.wv.most_similar('developer', topn=20)\n",
    "\n",
    "#print the tokens\n",
    "for token, similarity in similar_tokens:\n",
    "    print(f\"{token}: {similarity}\")"
   ]
  },
  {
   "cell_type": "markdown",
   "metadata": {},
   "source": [
    "# End of Part A"
   ]
  },
  {
   "cell_type": "markdown",
   "metadata": {},
   "source": [
    "If you wish to use this notebook for any code or calculations for Part B, please do so by adding cells below here."
   ]
  },
  {
   "cell_type": "code",
   "execution_count": 20,
   "metadata": {},
   "outputs": [
    {
     "name": "stdout",
     "output_type": "stream",
     "text": [
      "Most similar words to 'developer':\n",
      "  1: 0.9168\n",
      "  want: 0.9137\n",
      "  move: 0.9124\n",
      "  visit: 0.9115\n",
      "  reviewed: 0.9112\n",
      "  any: 0.9111\n",
      "  ago: 0.9108\n",
      "  been: 0.9108\n",
      "  but: 0.9105\n",
      "  clients: 0.9105\n",
      "\n",
      "\n",
      "Most similar words to 'interview':\n",
      "  like: 0.9771\n",
      "  candidate: 0.9749\n",
      "  |: 0.9748\n",
      "  qualifications: 0.9747\n",
      "  about: 0.9744\n",
      "  by: 0.9744\n",
      "  future: 0.9744\n",
      "  as: 0.9743\n",
      "  s: 0.9743\n",
      "  new: 0.9743\n",
      "\n",
      "\n",
      "Most similar words to 'skills':\n",
      "  ): 0.9919\n",
      "  .: 0.9919\n",
      "  our: 0.9919\n",
      "  and: 0.9919\n",
      "  be: 0.9918\n",
      "  Please: 0.9918\n",
      "  from: 0.9918\n",
      "  will: 0.9918\n",
      "  ,: 0.9917\n",
      "  we: 0.9917\n",
      "\n",
      "\n",
      "Most similar words to 'offer':\n",
      "  job: 0.9744\n",
      "  (: 0.9738\n",
      "  team: 0.9738\n",
      "  will: 0.9736\n",
      "  email: 0.9734\n",
      "  other: 0.9733\n",
      "  or: 0.9732\n",
      "  openings: 0.9732\n",
      "  can: 0.9732\n",
      "  jobs: 0.9732\n",
      "\n",
      "\n",
      "Most similar words to 'application':\n",
      "  .: 0.9994\n",
      "  your: 0.9993\n",
      "  to: 0.9993\n",
      "  ,: 0.9993\n",
      "  the: 0.9993\n",
      "  of: 0.9993\n",
      "  :: 0.9993\n",
      "  have: 0.9993\n",
      "  and: 0.9992\n",
      "  you: 0.9992\n",
      "\n",
      "\n"
     ]
    }
   ],
   "source": [
    "from gensim.models import Word2Vec\n",
    "\n",
    "tokens = df['Tokens'].tolist()\n",
    "\n",
    "#train a Word2Vec model\n",
    "model = Word2Vec(sentences=tokens, vector_size=100, window=5, min_count=1, workers=4)\n",
    "\n",
    "#list of terms\n",
    "terms = [\"developer\", \"interview\", \"skills\", \"offer\", \"application\"]\n",
    "\n",
    "#print the most similar words to each term\n",
    "for term in terms:\n",
    "    print(f\"Most similar words to '{term}':\")\n",
    "    try:\n",
    "        similar_words = model.wv.most_similar(term, topn=10)\n",
    "        for word, similarity in similar_words:\n",
    "            print(f\"  {word}: {similarity:.4f}\")\n",
    "    except KeyError:\n",
    "        print(f\"  The term '{term}' is not in the vocabulary.\")\n",
    "    print(\"\\n\")"
   ]
  },
  {
   "cell_type": "code",
   "execution_count": 21,
   "metadata": {},
   "outputs": [],
   "source": [
    "import pandas as pd\n",
    "from nltk.tokenize import word_tokenize\n",
    "from nltk.corpus import stopwords\n",
    "import string\n",
    "\n",
    "\n",
    "#preprocess text and tokenize\n",
    "stop_words = set(stopwords.words('english') + list(string.punctuation))\n",
    "\n",
    "def preprocess_text(text):\n",
    "    tokens = word_tokenize(text.lower())\n",
    "    return [token for token in tokens if token not in stop_words and token.isalpha()]  #remove punctuation\n",
    "\n",
    "df['Tokens'] = df['Email'].apply(preprocess_text)"
   ]
  },
  {
   "cell_type": "code",
   "execution_count": 22,
   "metadata": {},
   "outputs": [
    {
     "name": "stdout",
     "output_type": "stream",
     "text": [
      "Most common words in reject emails: [('interest', 79), ('thank', 68), ('position', 58), ('time', 56), ('unfortunately', 53), ('software', 47), ('application', 35), ('forward', 34), ('engineer', 31), ('best', 31)]\n",
      "Most common words in not_reject emails: [('software', 44), ('please', 31), ('engineer', 29), ('resume', 28), ('application', 27), ('team', 26), ('thank', 26), ('job', 26), ('us', 23), ('get', 22)]\n"
     ]
    }
   ],
   "source": [
    "from collections import Counter\n",
    "\n",
    "#separate tokens by email status\n",
    "reject_tokens = df[df['Status'] == 'reject']['Tokens'].sum()\n",
    "not_reject_tokens = df[df['Status'] == 'not_reject']['Tokens'].sum()\n",
    "\n",
    "#calculate word frequencies\n",
    "reject_freq = Counter(reject_tokens)\n",
    "not_reject_freq = Counter(not_reject_tokens)\n",
    "\n",
    "#the most common words in each category\n",
    "most_common_reject = reject_freq.most_common(10)\n",
    "most_common_not_reject = not_reject_freq.most_common(10)\n",
    "\n",
    "print(\"Most common words in reject emails:\", most_common_reject)\n",
    "print(\"Most common words in not_reject emails:\", most_common_not_reject)\n"
   ]
  },
  {
   "cell_type": "code",
   "execution_count": 23,
   "metadata": {},
   "outputs": [
    {
     "name": "stdout",
     "output_type": "stream",
     "text": [
      "Average sentiment in reject emails: 0.7723276923076923\n",
      "Average sentiment in not_reject emails: 0.712409375\n"
     ]
    }
   ],
   "source": [
    "# nltk.download('vader_lexicon') #may need to be uncommoented if you haven't downloaded the vader lexicon before\n",
    "from nltk.sentiment.vader import SentimentIntensityAnalyzer\n",
    "\n",
    "sia = SentimentIntensityAnalyzer()\n",
    "\n",
    "df['Sentiment'] = df['Email'].apply(lambda x: sia.polarity_scores(x)['compound'])\n",
    "\n",
    "#calculate average sentiment for each category\n",
    "avg_sentiment_reject = df[df['Status'] == 'reject']['Sentiment'].mean()\n",
    "avg_sentiment_not_reject = df[df['Status'] == 'not_reject']['Sentiment'].mean()\n",
    "\n",
    "print(\"Average sentiment in reject emails:\", avg_sentiment_reject)\n",
    "print(\"Average sentiment in not_reject emails:\", avg_sentiment_not_reject)\n"
   ]
  },
  {
   "cell_type": "code",
   "execution_count": 24,
   "metadata": {},
   "outputs": [
    {
     "name": "stdout",
     "output_type": "stream",
     "text": [
      "Average word count for rejection emails: 80.3076923076923\n",
      "Average word count for non-rejection emails: 106.21875\n"
     ]
    }
   ],
   "source": [
    "#calculate the word count for each email\n",
    "df['WordCount'] = df['Email'].apply(lambda x: len(word_tokenize(x)))\n",
    "\n",
    "#separate the data into two groups: rejection and non-rejection emails\n",
    "reject_df = df[df['Status'] == 'reject']\n",
    "not_reject_df = df[df['Status'] == 'not_reject']\n",
    "\n",
    "#calculate the average word count for each group\n",
    "average_word_count_reject = reject_df['WordCount'].mean()\n",
    "average_word_count_not_reject = not_reject_df['WordCount'].mean()\n",
    "\n",
    "print(f\"Average word count for rejection emails: {average_word_count_reject}\")\n",
    "print(f\"Average word count for non-rejection emails: {average_word_count_not_reject}\")\n"
   ]
  },
  {
   "cell_type": "code",
   "execution_count": 25,
   "metadata": {},
   "outputs": [
    {
     "name": "stdout",
     "output_type": "stream",
     "text": [
      "Total future action keywords in rejection emails: 48\n",
      "Total future action keywords in non-rejection emails: 14\n",
      "Average future action keywords per rejection email: 0.7384615384615385\n",
      "Average future action keywords per non-rejection email: 0.21875\n"
     ]
    }
   ],
   "source": [
    "future_action_keywords = [\"apply again\", \"future\", \"opportunities\", \"keep in touch\", \"update\", \"progress\"]\n",
    "\n",
    "#count occurrences of future action keywords\n",
    "def count_future_action_keywords(text, keyword_list):\n",
    "    count = 0\n",
    "    for keyword in keyword_list:\n",
    "        # We'll use a simple count of keyword occurrences for this example\n",
    "        count += text.lower().count(keyword)\n",
    "    return count\n",
    "\n",
    "\n",
    "df['FutureActionKeywordCount'] = df['Email'].apply(lambda x: count_future_action_keywords(x, future_action_keywords))\n",
    "\n",
    "#seperate data\n",
    "reject_keyword_count = df[df['Status'] == 'reject']['FutureActionKeywordCount'].sum()\n",
    "not_reject_keyword_count = df[df['Status'] == 'not_reject']['FutureActionKeywordCount'].sum()\n",
    "\n",
    "#calculate total and proportions\n",
    "total_reject_emails = df[df['Status'] == 'reject'].shape[0]\n",
    "total_not_reject_emails = df[df['Status'] == 'not_reject'].shape[0]\n",
    "\n",
    "reject_proportion = reject_keyword_count / total_reject_emails\n",
    "not_reject_proportion = not_reject_keyword_count / total_not_reject_emails\n",
    "\n",
    "print(f\"Total future action keywords in rejection emails: {reject_keyword_count}\")\n",
    "print(f\"Total future action keywords in non-rejection emails: {not_reject_keyword_count}\")\n",
    "print(f\"Average future action keywords per rejection email: {reject_proportion}\")\n",
    "print(f\"Average future action keywords per non-rejection email: {not_reject_proportion}\")"
   ]
  }
 ],
 "metadata": {
  "kernelspec": {
   "display_name": "Python 3 (ipykernel)",
   "language": "python",
   "name": "python3"
  },
  "language_info": {
   "codemirror_mode": {
    "name": "ipython",
    "version": 3
   },
   "file_extension": ".py",
   "mimetype": "text/x-python",
   "name": "python",
   "nbconvert_exporter": "python",
   "pygments_lexer": "ipython3",
   "version": "3.11.2"
  },
  "papermill": {
   "default_parameters": {},
   "duration": 8.412623,
   "end_time": "2021-02-27T19:54:41.333676",
   "environment_variables": {},
   "exception": null,
   "input_path": "__notebook__.ipynb",
   "output_path": "__notebook__.ipynb",
   "parameters": {},
   "start_time": "2021-02-27T19:54:32.921053",
   "version": "2.2.2"
  }
 },
 "nbformat": 4,
 "nbformat_minor": 4
}
